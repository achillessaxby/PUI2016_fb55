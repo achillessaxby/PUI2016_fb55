{
 "cells": [
  {
   "cell_type": "markdown",
   "metadata": {},
   "source": [
    "# I prepared a dataset of hospital facilities Asthma dismissal records and uploaded it to Carto. \n",
    "## download it with an SQL query. Use the function I provide below.\n",
    "## The name of the DB is NYCAsthmasDismissals\n",
    "## *within the SQLquery* group the data by zipcode."
   ]
  },
  {
   "cell_type": "code",
   "execution_count": 70,
   "metadata": {
    "collapsed": false
   },
   "outputs": [
    {
     "name": "stdout",
     "output_type": "stream",
     "text": [
      "Populating the interactive namespace from numpy and matplotlib\n"
     ]
    }
   ],
   "source": [
    "import ast\n",
    "import os\n",
    "# note this is python2 compatible only. the pykriging code is also python2 only\n",
    "import urllib2\n",
    "import urllib\n",
    "from scipy.spatial.distance import pdist, squareform\n",
    "\n",
    "from cStringIO import StringIO\n",
    "import json\n",
    "import geopandas as gpd\n",
    "import pandas as pd\n",
    "import numpy as np\n",
    "import pylab as pl\n",
    "\n",
    "%pylab inline\n",
    "\n",
    "SQL_SOURCE = 'https://fb55.carto.com/api/v2/sql'\n",
    "\n",
    "def queryCartoDB(query, format='CSV', source=SQL_SOURCE):\n",
    "    \"\"\" queries a url with an sql compatible search\n",
    "    Arguments:\n",
    "    query : the sql query string\n",
    "    format : the expected format\n",
    "    source \" the url of the API\n",
    "    \"\"\"\n",
    "    data = urllib.urlencode({'format': format, 'q': query})\n",
    "    try:\n",
    "        response = urllib2.urlopen(source, data)\n",
    "    except urllib2.HTTPError, e:\n",
    "        raise ValueError('\\n'.join(ast.literal_eval(e.readline())['error']))\n",
    "    except Exception:\n",
    "        raise\n",
    "    return StringIO(response.read())"
   ]
  },
  {
   "cell_type": "code",
   "execution_count": 71,
   "metadata": {
    "collapsed": false
   },
   "outputs": [
    {
     "data": {
      "text/html": [
       "<div>\n",
       "<table border=\"1\" class=\"dataframe\">\n",
       "  <thead>\n",
       "    <tr style=\"text-align: right;\">\n",
       "      <th></th>\n",
       "      <th>count</th>\n",
       "      <th>zipcodes</th>\n",
       "    </tr>\n",
       "  </thead>\n",
       "  <tbody>\n",
       "    <tr>\n",
       "      <th>0</th>\n",
       "      <td>1229</td>\n",
       "      <td>10461</td>\n",
       "    </tr>\n",
       "    <tr>\n",
       "      <th>1</th>\n",
       "      <td>328</td>\n",
       "      <td>11373</td>\n",
       "    </tr>\n",
       "    <tr>\n",
       "      <th>2</th>\n",
       "      <td>1502</td>\n",
       "      <td>10451</td>\n",
       "    </tr>\n",
       "    <tr>\n",
       "      <th>3</th>\n",
       "      <td>114</td>\n",
       "      <td>11691</td>\n",
       "    </tr>\n",
       "    <tr>\n",
       "      <th>4</th>\n",
       "      <td>145</td>\n",
       "      <td>11375</td>\n",
       "    </tr>\n",
       "    <tr>\n",
       "      <th>5</th>\n",
       "      <td>332</td>\n",
       "      <td>10466</td>\n",
       "    </tr>\n",
       "    <tr>\n",
       "      <th>6</th>\n",
       "      <td>448</td>\n",
       "      <td>11212</td>\n",
       "    </tr>\n",
       "    <tr>\n",
       "      <th>7</th>\n",
       "      <td>44</td>\n",
       "      <td>11229</td>\n",
       "    </tr>\n",
       "    <tr>\n",
       "      <th>8</th>\n",
       "      <td>363</td>\n",
       "      <td>11215</td>\n",
       "    </tr>\n",
       "    <tr>\n",
       "      <th>9</th>\n",
       "      <td>218</td>\n",
       "      <td>11220</td>\n",
       "    </tr>\n",
       "    <tr>\n",
       "      <th>10</th>\n",
       "      <td>474</td>\n",
       "      <td>11355</td>\n",
       "    </tr>\n",
       "    <tr>\n",
       "      <th>11</th>\n",
       "      <td>258</td>\n",
       "      <td>11213</td>\n",
       "    </tr>\n",
       "    <tr>\n",
       "      <th>12</th>\n",
       "      <td>478</td>\n",
       "      <td>11418</td>\n",
       "    </tr>\n",
       "    <tr>\n",
       "      <th>13</th>\n",
       "      <td>281</td>\n",
       "      <td>10310</td>\n",
       "    </tr>\n",
       "    <tr>\n",
       "      <th>14</th>\n",
       "      <td>1279</td>\n",
       "      <td>11203</td>\n",
       "    </tr>\n",
       "    <tr>\n",
       "      <th>15</th>\n",
       "      <td>92</td>\n",
       "      <td>11102</td>\n",
       "    </tr>\n",
       "    <tr>\n",
       "      <th>16</th>\n",
       "      <td>85</td>\n",
       "      <td>11234</td>\n",
       "    </tr>\n",
       "    <tr>\n",
       "      <th>17</th>\n",
       "      <td>895</td>\n",
       "      <td>11237</td>\n",
       "    </tr>\n",
       "    <tr>\n",
       "      <th>18</th>\n",
       "      <td>265</td>\n",
       "      <td>11219</td>\n",
       "    </tr>\n",
       "    <tr>\n",
       "      <th>19</th>\n",
       "      <td>523</td>\n",
       "      <td>10457</td>\n",
       "    </tr>\n",
       "    <tr>\n",
       "      <th>20</th>\n",
       "      <td>200</td>\n",
       "      <td>11235</td>\n",
       "    </tr>\n",
       "    <tr>\n",
       "      <th>21</th>\n",
       "      <td>316</td>\n",
       "      <td>11206</td>\n",
       "    </tr>\n",
       "    <tr>\n",
       "      <th>22</th>\n",
       "      <td>592</td>\n",
       "      <td>10456</td>\n",
       "    </tr>\n",
       "    <tr>\n",
       "      <th>23</th>\n",
       "      <td>826</td>\n",
       "      <td>11040</td>\n",
       "    </tr>\n",
       "    <tr>\n",
       "      <th>24</th>\n",
       "      <td>696</td>\n",
       "      <td>11201</td>\n",
       "    </tr>\n",
       "    <tr>\n",
       "      <th>25</th>\n",
       "      <td>1659</td>\n",
       "      <td>10467</td>\n",
       "    </tr>\n",
       "    <tr>\n",
       "      <th>26</th>\n",
       "      <td>191</td>\n",
       "      <td>11432</td>\n",
       "    </tr>\n",
       "    <tr>\n",
       "      <th>27</th>\n",
       "      <td>292</td>\n",
       "      <td>10305</td>\n",
       "    </tr>\n",
       "    <tr>\n",
       "      <th>28</th>\n",
       "      <td>67</td>\n",
       "      <td>10309</td>\n",
       "    </tr>\n",
       "  </tbody>\n",
       "</table>\n",
       "</div>"
      ],
      "text/plain": [
       "    count  zipcodes\n",
       "0    1229     10461\n",
       "1     328     11373\n",
       "2    1502     10451\n",
       "3     114     11691\n",
       "4     145     11375\n",
       "5     332     10466\n",
       "6     448     11212\n",
       "7      44     11229\n",
       "8     363     11215\n",
       "9     218     11220\n",
       "10    474     11355\n",
       "11    258     11213\n",
       "12    478     11418\n",
       "13    281     10310\n",
       "14   1279     11203\n",
       "15     92     11102\n",
       "16     85     11234\n",
       "17    895     11237\n",
       "18    265     11219\n",
       "19    523     10457\n",
       "20    200     11235\n",
       "21    316     11206\n",
       "22    592     10456\n",
       "23    826     11040\n",
       "24    696     11201\n",
       "25   1659     10467\n",
       "26    191     11432\n",
       "27    292     10305\n",
       "28     67     10309"
      ]
     },
     "execution_count": 71,
     "metadata": {},
     "output_type": "execute_result"
    }
   ],
   "source": [
    "facilityQuery = '''select zipcodes, count(*) from\n",
    "(\n",
    "SELECT * \n",
    "FROM  NYCAsthmasDismissals WHERE apr_drg_description ILIKE '%ASTHMA%' \n",
    ") t GROUP BY zipcodes'''\n",
    "    \n",
    "facilityStream = queryCartoDB(facilityQuery, format='JSON')\n",
    "facilityData   = json.loads(facilityStream.read())\n",
    "facilityData\n",
    "facilities     = pd.DataFrame.from_dict(facilityData['rows'])\n",
    "facilities"
   ]
  },
  {
   "cell_type": "markdown",
   "metadata": {},
   "source": [
    "# Find a shape file with zipcode shapes for NYC, download it and open it with geopandas.\n",
    "# Merge the dataframe with the facility dismissals (the file you got on Carto)  joining on the zipcode and  use the zipcode geometry centers to extract the x and y coordinates of the zipcode center."
   ]
  },
  {
   "cell_type": "code",
   "execution_count": null,
   "metadata": {
    "collapsed": true
   },
   "outputs": [],
   "source": [
    "!wget https://data.cityofnewyork.us/download/i8iw-xf4u/application%2Fzip\n",
    "!unzip application%2Fzip\n",
    "!mv ZIP* os.getenv(\"PUIDATA\")\n"
   ]
  },
  {
   "cell_type": "code",
   "execution_count": 72,
   "metadata": {
    "collapsed": false
   },
   "outputs": [],
   "source": [
    "zips = gpd.GeoDataFrame.from_file( os.getenv(\"PUIDATA\") + \n",
    "                                    '/ZIP_CODE_040114.shx')\n",
    "zips['zipcodes'] =  zips.ZIPCODE.astype(int)  \n",
    "\n",
    "merged = zips.merge(facilities, on=\"zipcodes\")"
   ]
  },
  {
   "cell_type": "code",
   "execution_count": 73,
   "metadata": {
    "collapsed": false
   },
   "outputs": [
    {
     "data": {
      "text/html": [
       "<div>\n",
       "<table border=\"1\" class=\"dataframe\">\n",
       "  <thead>\n",
       "    <tr style=\"text-align: right;\">\n",
       "      <th></th>\n",
       "      <th>AREA</th>\n",
       "      <th>BLDGZIP</th>\n",
       "      <th>COUNTY</th>\n",
       "      <th>CTY_FIPS</th>\n",
       "      <th>POPULATION</th>\n",
       "      <th>PO_NAME</th>\n",
       "      <th>SHAPE_AREA</th>\n",
       "      <th>SHAPE_LEN</th>\n",
       "      <th>STATE</th>\n",
       "      <th>ST_FIPS</th>\n",
       "      <th>URL</th>\n",
       "      <th>ZIPCODE</th>\n",
       "      <th>geometry</th>\n",
       "      <th>zipcodes</th>\n",
       "      <th>count</th>\n",
       "    </tr>\n",
       "  </thead>\n",
       "  <tbody>\n",
       "    <tr>\n",
       "      <th>0</th>\n",
       "      <td>29631004.437939</td>\n",
       "      <td>0</td>\n",
       "      <td>Kings</td>\n",
       "      <td>047</td>\n",
       "      <td>62426</td>\n",
       "      <td>Brooklyn</td>\n",
       "      <td>0</td>\n",
       "      <td>0</td>\n",
       "      <td>NY</td>\n",
       "      <td>36</td>\n",
       "      <td>http://www.usps.com/</td>\n",
       "      <td>11213</td>\n",
       "      <td>POLYGON ((1001613.712964058 186926.4395172149,...</td>\n",
       "      <td>11213</td>\n",
       "      <td>258</td>\n",
       "    </tr>\n",
       "    <tr>\n",
       "      <th>1</th>\n",
       "      <td>41972104.071420</td>\n",
       "      <td>0</td>\n",
       "      <td>Kings</td>\n",
       "      <td>047</td>\n",
       "      <td>83866</td>\n",
       "      <td>Brooklyn</td>\n",
       "      <td>0</td>\n",
       "      <td>0</td>\n",
       "      <td>NY</td>\n",
       "      <td>36</td>\n",
       "      <td>http://www.usps.com/</td>\n",
       "      <td>11212</td>\n",
       "      <td>POLYGON ((1011174.275535807 183696.33770971, 1...</td>\n",
       "      <td>11212</td>\n",
       "      <td>448</td>\n",
       "    </tr>\n",
       "    <tr>\n",
       "      <th>2</th>\n",
       "      <td>42002738.467230</td>\n",
       "      <td>0</td>\n",
       "      <td>Kings</td>\n",
       "      <td>047</td>\n",
       "      <td>92561</td>\n",
       "      <td>Brooklyn</td>\n",
       "      <td>0</td>\n",
       "      <td>0</td>\n",
       "      <td>NY</td>\n",
       "      <td>36</td>\n",
       "      <td>http://www.usps.com/</td>\n",
       "      <td>11219</td>\n",
       "      <td>POLYGON ((987286.3515269756 173946.4621963799,...</td>\n",
       "      <td>11219</td>\n",
       "      <td>265</td>\n",
       "    </tr>\n",
       "    <tr>\n",
       "      <th>3</th>\n",
       "      <td>55262490.612460</td>\n",
       "      <td>0</td>\n",
       "      <td>Bronx</td>\n",
       "      <td>005</td>\n",
       "      <td>68942</td>\n",
       "      <td>Bronx</td>\n",
       "      <td>0</td>\n",
       "      <td>0</td>\n",
       "      <td>NY</td>\n",
       "      <td>36</td>\n",
       "      <td>http://www.usps.com/</td>\n",
       "      <td>10466</td>\n",
       "      <td>POLYGON ((1027197.215602726 268941.3607888818,...</td>\n",
       "      <td>10466</td>\n",
       "      <td>332</td>\n",
       "    </tr>\n",
       "    <tr>\n",
       "      <th>4</th>\n",
       "      <td>69336166.372634</td>\n",
       "      <td>0</td>\n",
       "      <td>Bronx</td>\n",
       "      <td>005</td>\n",
       "      <td>97932</td>\n",
       "      <td>Bronx</td>\n",
       "      <td>0</td>\n",
       "      <td>0</td>\n",
       "      <td>NY</td>\n",
       "      <td>36</td>\n",
       "      <td>http://www.usps.com/</td>\n",
       "      <td>10467</td>\n",
       "      <td>POLYGON ((1017396.305742651 265444.4701448828,...</td>\n",
       "      <td>10467</td>\n",
       "      <td>1659</td>\n",
       "    </tr>\n",
       "  </tbody>\n",
       "</table>\n",
       "</div>"
      ],
      "text/plain": [
       "              AREA BLDGZIP COUNTY CTY_FIPS  POPULATION   PO_NAME  SHAPE_AREA  \\\n",
       "0  29631004.437939       0  Kings      047       62426  Brooklyn           0   \n",
       "1  41972104.071420       0  Kings      047       83866  Brooklyn           0   \n",
       "2  42002738.467230       0  Kings      047       92561  Brooklyn           0   \n",
       "3  55262490.612460       0  Bronx      005       68942     Bronx           0   \n",
       "4  69336166.372634       0  Bronx      005       97932     Bronx           0   \n",
       "\n",
       "   SHAPE_LEN STATE ST_FIPS                   URL ZIPCODE  \\\n",
       "0          0    NY      36  http://www.usps.com/   11213   \n",
       "1          0    NY      36  http://www.usps.com/   11212   \n",
       "2          0    NY      36  http://www.usps.com/   11219   \n",
       "3          0    NY      36  http://www.usps.com/   10466   \n",
       "4          0    NY      36  http://www.usps.com/   10467   \n",
       "\n",
       "                                            geometry  zipcodes  count  \n",
       "0  POLYGON ((1001613.712964058 186926.4395172149,...     11213    258  \n",
       "1  POLYGON ((1011174.275535807 183696.33770971, 1...     11212    448  \n",
       "2  POLYGON ((987286.3515269756 173946.4621963799,...     11219    265  \n",
       "3  POLYGON ((1027197.215602726 268941.3607888818,...     10466    332  \n",
       "4  POLYGON ((1017396.305742651 265444.4701448828,...     10467   1659  "
      ]
     },
     "execution_count": 73,
     "metadata": {},
     "output_type": "execute_result"
    }
   ],
   "source": [
    "merged.head()"
   ]
  },
  {
   "cell_type": "markdown",
   "metadata": {},
   "source": [
    "# Create a 3xN numpy array with x-location, y-location, number of dismissals"
   ]
  },
  {
   "cell_type": "code",
   "execution_count": 74,
   "metadata": {
    "collapsed": false
   },
   "outputs": [
    {
     "data": {
      "text/plain": [
       "array([[  1.00191287e+06,   1.83803113e+05,   2.58000000e+02],\n",
       "       [  1.00836538e+06,   1.80768945e+05,   4.48000000e+02],\n",
       "       [  9.85172779e+05,   1.69813485e+05,   2.65000000e+02],\n",
       "       [  1.02664711e+06,   2.63909290e+05,   3.32000000e+02],\n",
       "       [  1.02005912e+06,   2.59287518e+05,   1.65900000e+03],\n",
       "       [  1.02829272e+06,   2.47902428e+05,   1.22900000e+03],\n",
       "       [  1.01237400e+06,   2.47427241e+05,   5.23000000e+02],\n",
       "       [  1.00976434e+06,   2.41746681e+05,   5.92000000e+02],\n",
       "       [  1.00535896e+06,   2.38316068e+05,   1.50200000e+03],\n",
       "       [  1.00461252e+06,   2.20393721e+05,   9.20000000e+01],\n",
       "       [  1.03375196e+06,   2.13025445e+05,   4.74000000e+02],\n",
       "       [  1.00620449e+06,   1.95763534e+05,   8.95000000e+02],\n",
       "       [  1.00021475e+06,   1.95030042e+05,   3.16000000e+02],\n",
       "       [  9.87194513e+05,   1.92431928e+05,   6.96000000e+02],\n",
       "       [  9.89857162e+05,   1.81769963e+05,   3.63000000e+02],\n",
       "       [  1.00248639e+06,   1.75967925e+05,   1.27900000e+03],\n",
       "       [  9.79603689e+05,   1.72876818e+05,   2.18000000e+02],\n",
       "       [  1.00903059e+06,   1.60369891e+05,   8.50000000e+01],\n",
       "       [  9.63294355e+05,   1.56090560e+05,   2.92000000e+02],\n",
       "       [  9.99714282e+05,   1.58289319e+05,   4.40000000e+01],\n",
       "       [  1.05036077e+06,   1.58235462e+05,   1.14000000e+02],\n",
       "       [  9.99281733e+05,   1.52086498e+05,   2.00000000e+02],\n",
       "       [  9.23582216e+05,   1.32956186e+05,   6.70000000e+01],\n",
       "       [  1.06642031e+06,   2.12186372e+05,   8.26000000e+02],\n",
       "       [  1.02685821e+06,   2.01880223e+05,   1.45000000e+02],\n",
       "       [  1.04161543e+06,   2.00113081e+05,   1.91000000e+02],\n",
       "       [  1.03076313e+06,   1.93718677e+05,   4.78000000e+02],\n",
       "       [  1.01794122e+06,   2.08485105e+05,   3.28000000e+02],\n",
       "       [  9.52154316e+05,   1.70046546e+05,   2.81000000e+02]])"
      ]
     },
     "execution_count": 74,
     "metadata": {},
     "output_type": "execute_result"
    }
   ],
   "source": [
    "krigdata = np.zeros((len(merged),3))\n",
    "krigdata[:,:2] = [[m.centroid.x, m.centroid.y] for m in merged.geometry]\n",
    "krigdata[:,2] = [c for c in merged['count'].values]\n",
    "krigdata"
   ]
  },
  {
   "cell_type": "code",
   "execution_count": 75,
   "metadata": {
    "collapsed": false
   },
   "outputs": [
    {
     "data": {
      "text/plain": [
       "Text(0,0.5,u'Northing (m)')"
      ]
     },
     "execution_count": 75,
     "metadata": {},
     "output_type": "execute_result"
    },
    {
     "data": {
      "image/png": "[encoded data removed]",
      "text/plain": [
       "<matplotlib.figure.Figure at 0x10a46eb10>"
      ]
     },
     "metadata": {},
     "output_type": "display_data"
    }
   ],
   "source": [
    "pl.figure(figsize=(10,10))\n",
    "pl.scatter(krigdata[:,0], krigdata[:,1], c=krigdata[:,2], s=100, cmap='bone')\n",
    "pl.xlabel(\"Easting (m)\", fontsize=20)\n",
    "pl.ylabel(\"Northing (m)\", fontsize=20)\n"
   ]
  },
  {
   "cell_type": "markdown",
   "metadata": {
    "collapsed": true
   },
   "source": [
    "# Create and try to model the semi-variogram as we did in class\n",
    "# https://github.com/fedhere/UInotebooks/blob/master/kriging/kriging_porosity.ipynb\n",
    "# Explain what is going on"
   ]
  },
  {
   "cell_type": "code",
   "execution_count": 76,
   "metadata": {
    "collapsed": true
   },
   "outputs": [],
   "source": [
    "\n",
    "def SVh_vctzd( P, h, bw ):\n",
    "    '''\n",
    "    Experimental semivariogram for a single lag\n",
    "    bw max distance\n",
    "    h lag\n",
    "    P data\n",
    "    '''\n",
    "    pdsv = squareform( pdist( P[:,:2] ) )\n",
    "    #print pdsv\n",
    "    N = pdsv.shape[0]\n",
    "    #print N\n",
    "    #print np.triu_indices(N)\n",
    "    Z = np.zeros((N,N))\n",
    "    Z = Z - P[:,2]\n",
    "    #print Z\n",
    "    Z = Z.T + P[:,2]\n",
    "    #print Z\n",
    "    Z = Z**2\n",
    "    #print Z\n",
    "    Zcd =  Z[(pdsv >= h - bw) * (pdsv <= h + bw) * \\\n",
    "            (~np.identity(N, dtype=bool))]\n",
    "\n",
    "    #print Zcd\n",
    "    return np.sum( Zcd ) / ( 2.0 * len( Zcd ) )\n",
    "\n",
    "\n",
    "\n",
    "def SV( P, hs, bw ):\n",
    "    '''\n",
    "    Experimental variogram for a collection of lags\n",
    "    '''\n",
    "    sv = list()\n",
    "    for h in hs:\n",
    "        sv.append( SVh_vctzd ( P, h, bw ) )\n",
    "    sv = [ [ hs[i], sv[i] ] for i in range( len( hs ) ) if sv[i] > 0 ]\n",
    "    return np.array( sv ).T\n"
   ]
  },
  {
   "cell_type": "code",
   "execution_count": 78,
   "metadata": {
    "collapsed": false
   },
   "outputs": [
    {
     "data": {
      "text/plain": [
       "Text(0.5,1,u'Sample Semivariogram\\nporosity data, lag 5000m')"
      ]
     },
     "execution_count": 78,
     "metadata": {},
     "output_type": "execute_result"
    },
    {
     "data": {
      "image/png": "[encoded data removed]",
      "text/plain": [
       "<matplotlib.figure.Figure at 0x10c8b9c50>"
      ]
     },
     "metadata": {},
     "output_type": "display_data"
    }
   ],
   "source": [
    "# lags in 5000 meter increments from zero to 100,000\n",
    "lag = 5000\n",
    "hs = np.arange(500, 105000, lag)\n",
    "mysv = SV( krigdata, hs, 500 )\n",
    "\n",
    "\n",
    "#mysv = SV( x, hs, bw )\n",
    "pl.figure(figsize=(10,10))\n",
    "plot( mysv[0], mysv[1], '.-' )\n",
    "pl.xlabel('Lag [m]', fontsize=20)\n",
    "pl.ylabel('Semivariogram', fontsize=20)\n",
    "pl.title('Sample Semivariogram\\nporosity data, lag %dm'%lag, fontsize=20) "
   ]
  },
  {
   "cell_type": "markdown",
   "metadata": {},
   "source": [
    "Figure 2: The semivariogram of Asthma related discharges from NYC hospitals. The semivariogram indicates that there is no conerent structure (high variations int he variogram value that do not indicate structure of growth, or decrease). Since the semivariogram indicates how similar points are as a function of  and no dependence of counts of discharges on distance between locations of hospitals. This makes sense because we have not accounted for \n",
    "1) the size of the hospital\n",
    "2) the kind of hospital (women's hospitals, childeren hospitals etc')\n",
    "3) the density of hospitals in the neighborhood. \n",
    "\n",
    "This variogram cannot be modelled with a function that would indicate the spacial coherence of the observable (counts) and therefore this data CANNOT and SHOULD NOT be krigged!"
   ]
  }
 ],
 "metadata": {
  "kernelspec": {
   "display_name": "Python 2",
   "language": "python",
   "name": "python2"
  }
 },
 "nbformat": 4,
 "nbformat_minor": 0
}
